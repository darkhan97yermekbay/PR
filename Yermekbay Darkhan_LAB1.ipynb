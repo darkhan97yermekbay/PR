{
 "cells": [
  {
   "cell_type": "code",
   "execution_count": 28,
   "metadata": {},
   "outputs": [
    {
     "name": "stdout",
     "output_type": "stream",
     "text": [
      "[1, 1, 3, 5, 7]\n",
      "15\n"
     ]
    }
   ],
   "source": [
    "array = [7, 1, 5, 1, 3]\n",
    "t = 3\n",
    "array.sort()\n",
    "print(array)\n",
    "s = len(array)\n",
    "out = 0\n",
    "for i in range (t):\n",
    "    out =out + array [s-1]\n",
    "    s= s-1\n",
    "print(out)"
   ]
  },
  {
   "cell_type": "code",
   "execution_count": 32,
   "metadata": {},
   "outputs": [
    {
     "name": "stdout",
     "output_type": "stream",
     "text": [
      "1 2 3 4 5\n",
      "[1, 2, 3, 4, 5]\n",
      "2\n",
      "[1, 2, 3, 4, 5]\n",
      "9\n"
     ]
    }
   ],
   "source": [
    "array = input().split()\n",
    "l = len(array)\n",
    "for i in range(l):\n",
    "    array[i] = int(array[i])\n",
    "print(array)\n",
    "t = int(input())\n",
    "array.sort()\n",
    "print(array)\n",
    "s = len(array)\n",
    "out =0\n",
    "for i in range(t):\n",
    "    out = out + array[s-1]\n",
    "    s = s-1\n",
    "print(out)"
   ]
  },
  {
   "cell_type": "code",
   "execution_count": null,
   "metadata": {
    "collapsed": true
   },
   "outputs": [],
   "source": []
  }
 ],
 "metadata": {
  "kernelspec": {
   "display_name": "Python 3",
   "language": "python",
   "name": "python3"
  },
  "language_info": {
   "codemirror_mode": {
    "name": "ipython",
    "version": 3
   },
   "file_extension": ".py",
   "mimetype": "text/x-python",
   "name": "python",
   "nbconvert_exporter": "python",
   "pygments_lexer": "ipython3",
   "version": "3.6.3"
  }
 },
 "nbformat": 4,
 "nbformat_minor": 2
}
